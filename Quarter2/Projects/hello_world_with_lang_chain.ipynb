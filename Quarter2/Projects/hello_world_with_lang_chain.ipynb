{
  "nbformat": 4,
  "nbformat_minor": 0,
  "metadata": {
    "colab": {
      "provenance": []
    },
    "kernelspec": {
      "name": "python3",
      "display_name": "Python 3"
    },
    "language_info": {
      "name": "python"
    }
  },
  "cells": [
    {
      "cell_type": "code",
      "execution_count": 19,
      "metadata": {
        "collapsed": true,
        "id": "qDBCnPNaf61Y"
      },
      "outputs": [],
      "source": [
        "# !pip install langchain-google-genai\n",
        "%pip install -qU langchain-google-genai"
      ]
    },
    {
      "cell_type": "code",
      "source": [
        "import getpass\n",
        "import os\n",
        "from langchain_google_genai import ChatGoogleGenerativeAI\n",
        "from langchain_core.prompts import ChatPromptTemplate"
      ],
      "metadata": {
        "id": "bw829hn2o65n"
      },
      "execution_count": 69,
      "outputs": []
    },
    {
      "cell_type": "code",
      "source": [
        "if \"GOOGLE_API_KEY\" not in os.environ:\n",
        "    os.environ[\"GOOGLE_API_KEY\"] = getpass.getpass(\"Enter your Google AI API key: \")"
      ],
      "metadata": {
        "collapsed": true,
        "id": "QNTSxer4hEbt"
      },
      "execution_count": 70,
      "outputs": []
    },
    {
      "cell_type": "code",
      "source": [
        "llm = ChatGoogleGenerativeAI(\n",
        "    model=\"gemini-2.0-flash-exp\",\n",
        "    temperature=0.7,\n",
        "    max_tokens=500,\n",
        "    timeout=None,\n",
        "    max_retries=2,\n",
        ")"
      ],
      "metadata": {
        "id": "BEaNLjKLjJot"
      },
      "execution_count": 71,
      "outputs": []
    },
    {
      "cell_type": "code",
      "source": [
        "messages = [\n",
        "    (\n",
        "        \"system\",\n",
        "        \"\"\"You are a helpful assistant. You have the ability to answer questions on various topics.\n",
        "\n",
        "        First, you will assist with zodiac signs and explain the answer in bullet points.\n",
        "\n",
        "        Then, you will act as a great football coach and guide players on formations.\n",
        "\n",
        "        Finally, you will act as the owner of a car manufacturing company.\n",
        "        \"\"\",\n",
        "    ),\n",
        "    (\"human\", \"I am a Capricorn girl.\"),\n",
        "    (\"human\", \"We are Barcelona going to face FC Bayern this weekend in our home ground.\"),\n",
        "    (\"human\", \"Gasoline based cars are being discontinued. I want you to bring up some EV same as Mustang GT.\"),\n",
        "]"
      ],
      "metadata": {
        "id": "HKpUFK8ljmTr"
      },
      "execution_count": 72,
      "outputs": []
    },
    {
      "cell_type": "code",
      "source": [
        "all_ai_responses = []\n",
        "\n",
        "for i in range(1, len(messages), 2):\n",
        "    human_question = messages[i]\n",
        "    messages[1] = human_question\n",
        "    ai_response = llm.invoke(messages)\n",
        "    all_ai_responses.append(ai_response)\n",
        "\n",
        "for i, response in enumerate(all_ai_responses):\n",
        "    print(f\"Response to prompt {i+1}: {response}\")"
      ],
      "metadata": {
        "colab": {
          "base_uri": "https://localhost:8080/"
        },
        "id": "XXjKEWjsvZZi",
        "outputId": "3791cb2d-06fc-4fcb-d14e-bee6ccc36abe"
      },
      "execution_count": 73,
      "outputs": [
        {
          "output_type": "stream",
          "name": "stdout",
          "text": [
            "Response to prompt 1: content=\"Okay, let's get started!\\n\\n**Zodiac Sign: Capricorn**\\n\\nAs a Capricorn girl, here are some common traits associated with your sign:\\n\\n*   **Ambitious:** Capricorns are known for their strong drive to succeed and their ability to set and achieve goals.\\n*   **Disciplined:** You are likely very organized, responsible, and have a high level of self-control.\\n*   **Practical:** You tend to be grounded, logical, and prefer realistic solutions over fanciful ideas.\\n*   **Patient:** Capricorns understand that success takes time and are willing to work steadily towards their objectives.\\n*   **Reserved:** You may be perceived as serious or quiet, preferring to observe before acting or speaking.\\n*   **Independent:** You are self-reliant and capable, often preferring to handle things on your own.\\n*   **Loyal:** Capricorns are deeply committed to their friends and family, offering unwavering support.\\n*   **Traditional:** You value tradition, structure, and established rules.\\n*   **Hardworking:** You are not afraid of hard work and are willing to put in the effort needed to reach your goals.\\n*   **Tenacious:** Once you set your mind on something, you are determined and persistent in seeing it through.\\n\\n***\\n\\n**Football Coaching: Barcelona vs. FC Bayern**\\n\\nAlright team, this is a huge game against Bayern, and we need to be tactically sharp. Here’s how we're going to approach this match at our home ground:\\n\\n*   **Formation: 4-3-3 (Flexible)**\\n    *   **Why:** This formation allows us to control the midfield, maintain possession, and create attacking opportunities with our wingers.\\n    *   **Flexibility:** We need to be able to switch to a 4-2-3-1 if needed to give more defensive support or a 3-4-3 to overload the attack. \\n*   **Key Principles:**\\n    *   **Possession-Based Football:** We will focus on keeping the ball, controlling the tempo, and using short, quick passes to move the ball forward. We don't want to give Bayern chances to counter. \\n    *   **High Press:** When we lose the ball, we will press immediately to win it back in their half. We need to be aggressive and coordinated.\\n    \" additional_kwargs={} response_metadata={'prompt_feedback': {'block_reason': 0, 'safety_ratings': []}, 'finish_reason': 'MAX_TOKENS', 'safety_ratings': [{'category': 'HARM_CATEGORY_HATE_SPEECH', 'probability': 'NEGLIGIBLE', 'blocked': False}, {'category': 'HARM_CATEGORY_DANGEROUS_CONTENT', 'probability': 'NEGLIGIBLE', 'blocked': False}, {'category': 'HARM_CATEGORY_HARASSMENT', 'probability': 'NEGLIGIBLE', 'blocked': False}, {'category': 'HARM_CATEGORY_SEXUALLY_EXPLICIT', 'probability': 'NEGLIGIBLE', 'blocked': False}]} id='run-3b1d1594-6065-4b8b-bf80-245602b10779-0' usage_metadata={'input_tokens': 123, 'output_tokens': 498, 'total_tokens': 621, 'input_token_details': {'cache_read': 0}}\n",
            "Response to prompt 2: content=\"Okay, here are some electric vehicles (EVs) that offer similar performance and styling to the Mustang GT, keeping in mind that the EV market is constantly evolving:\\n\\n*   **Ford Mustang Mach-E GT:**\\n    *   This is the most obvious choice, as it's the electric version of the Mustang. \\n    *   The Mach-E GT offers impressive acceleration and handling, aiming to capture the spirit of the Mustang GT.\\n    *   It has a similar sporty design language, although it's a four-door SUV/crossover rather than a traditional coupe.\\n    *   It offers a good balance of performance, technology, and practicality.\\n*   **Tesla Model 3 Performance:**\\n    *   Known for its blistering acceleration, the Model 3 Performance can outpace many gasoline-powered sports cars.\\n    *   It has a minimalist design but provides a sporty driving experience.\\n    *   Tesla's Supercharger network is a significant advantage for long-distance travel.\\n    *   It has advanced technology, including Autopilot, although it may not have the same raw muscle car feel as the Mustang GT.\\n*   **Tesla Model S Plaid:**\\n    *   If you're looking for top-tier EV performance, the Model S Plaid is an option.\\n    *   It offers incredible acceleration and is among the quickest production cars in the world.\\n    *   It's a larger and more luxurious car than the Mustang GT, but it certainly matches it in terms of speed.\\n    *   The Plaid is at a higher price point than the Mustang GT.\\n*   **Hyundai IONIQ 5 N:**\\n    *   This is a newer entry that is designed to be a high-performance EV. \\n    *   It's an all-electric crossover that is designed to offer a sporty experience.\\n    *   It has a futuristic design and advanced technology.\\n    *   This offers a different approach to performance than the traditional muscle car feel, but is a strong contender.\\n*   **Kia EV6 GT:**\\n    *   Kia's EV6 GT is another option that combines sporty styling with impressive performance.\\n    *   It has a more unique design than some of the other choices.\\n    *   It offers quick acceleration and good handling.\\n    *   It also has a comfortable and feature-\" additional_kwargs={} response_metadata={'prompt_feedback': {'block_reason': 0, 'safety_ratings': []}, 'finish_reason': 'MAX_TOKENS', 'safety_ratings': [{'category': 'HARM_CATEGORY_HATE_SPEECH', 'probability': 'NEGLIGIBLE', 'blocked': False}, {'category': 'HARM_CATEGORY_DANGEROUS_CONTENT', 'probability': 'NEGLIGIBLE', 'blocked': False}, {'category': 'HARM_CATEGORY_HARASSMENT', 'probability': 'NEGLIGIBLE', 'blocked': False}, {'category': 'HARM_CATEGORY_SEXUALLY_EXPLICIT', 'probability': 'NEGLIGIBLE', 'blocked': False}]} id='run-56177d4e-554a-43a7-bd69-29e6ebefd25b-0' usage_metadata={'input_tokens': 137, 'output_tokens': 496, 'total_tokens': 633, 'input_token_details': {'cache_read': 0}}\n"
          ]
        }
      ]
    }
  ]
}