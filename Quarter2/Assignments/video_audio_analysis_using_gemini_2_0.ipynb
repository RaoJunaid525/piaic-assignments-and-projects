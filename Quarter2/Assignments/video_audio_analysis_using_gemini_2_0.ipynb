{
  "nbformat": 4,
  "nbformat_minor": 0,
  "metadata": {
    "colab": {
      "provenance": [],
      "gpuType": "T4",
      "mount_file_id": "1kPMAFDcLp97rx_rTMKXMhZI8xOheVYur",
      "authorship_tag": "ABX9TyMStUSUa9DX0n1YhVuQIU2m",
      "include_colab_link": true
    },
    "kernelspec": {
      "name": "python3",
      "display_name": "Python 3"
    },
    "language_info": {
      "name": "python"
    },
    "accelerator": "GPU"
  },
  "cells": [
    {
      "cell_type": "markdown",
      "metadata": {
        "id": "view-in-github",
        "colab_type": "text"
      },
      "source": [
        "<a href=\"https://colab.research.google.com/github/RaoJunaid525/piaic-assignments-and-projects/blob/main/Quarter2/Assignments/video_audio_analysis_using_gemini_2_0.ipynb\" target=\"_parent\"><img src=\"https://colab.research.google.com/assets/colab-badge.svg\" alt=\"Open In Colab\"/></a>"
      ]
    },
    {
      "cell_type": "code",
      "source": [
        "!pip install -U -q google-genai"
      ],
      "metadata": {
        "id": "pHqKU7ImYDET"
      },
      "execution_count": 7,
      "outputs": []
    },
    {
      "cell_type": "code",
      "execution_count": 25,
      "metadata": {
        "id": "HJmNU3UvVHa1"
      },
      "outputs": [],
      "source": [
        "from google.colab import userdata\n",
        "from google import genai\n",
        "from google.genai import Client, types\n",
        "from PIL import Image\n",
        "from IPython.display import display, Markdown, HTML\n",
        "import time\n",
        "import json"
      ]
    },
    {
      "cell_type": "code",
      "source": [
        "GEMINI_API_KEY: str = userdata.get('GEMINI_API_KEY')"
      ],
      "metadata": {
        "id": "kaBXJzT7Vgr-"
      },
      "execution_count": 15,
      "outputs": []
    },
    {
      "cell_type": "code",
      "source": [
        "client: Client = genai.Client(api_key=GEMINI_API_KEY)\n",
        "\n",
        "model:str = \"gemini-2.0-flash-exp\""
      ],
      "metadata": {
        "id": "LOogdy2dVu0K"
      },
      "execution_count": 16,
      "outputs": []
    },
    {
      "cell_type": "code",
      "source": [
        "system_instructions = \"\"\"\n",
        "    When given a video and a query, call the relevant function only once with the appropriate timecodes and text for the video\n",
        "  \"\"\""
      ],
      "metadata": {
        "id": "ZqhBbmEvYyRp"
      },
      "execution_count": 17,
      "outputs": []
    },
    {
      "cell_type": "code",
      "source": [
        "def upload_video(video_file_name):\n",
        "  video_file = client.files.upload(path=video_file_name)\n",
        "  while video_file.state == \"PROCESSING\":\n",
        "      print('Waiting for video to be processed.')\n",
        "      time.sleep(10)\n",
        "      video_file = client.files.get(name=video_file.name or \"\")\n",
        "\n",
        "  if video_file.state == \"FAILED\":\n",
        "    raise ValueError(video_file.state)\n",
        "  print(f'Video processing complete: ' + (video_file.uri or \"\"))\n",
        "\n",
        "  return video_file"
      ],
      "metadata": {
        "id": "Pqary8UNWKkn"
      },
      "execution_count": 19,
      "outputs": []
    },
    {
      "cell_type": "code",
      "source": [
        "intro_video = upload_video('/content/drive/MyDrive/personal /PIAIC/Q2/Assignments/Assignment05/intro.mp4')"
      ],
      "metadata": {
        "colab": {
          "base_uri": "https://localhost:8080/"
        },
        "id": "K4AJrWKhXCEw",
        "outputId": "3c484414-5f8e-4289-f0e0-9189773a77c7"
      },
      "execution_count": 22,
      "outputs": [
        {
          "output_type": "stream",
          "name": "stdout",
          "text": [
            "Waiting for video to be processed.\n",
            "Video processing complete: https://generativelanguage.googleapis.com/v1beta/files/8v4zo81ex5v3\n"
          ]
        }
      ]
    },
    {
      "cell_type": "code",
      "source": [
        "prompt = \"\"\"For each scene in this video, generate captions that describe the scene\n",
        "             along with any spoken text placed in quotation marks. Place each caption\n",
        "              into an object with the timecode of the caption in the video.\"\"\""
      ],
      "metadata": {
        "id": "qmOj-5mebINx"
      },
      "execution_count": 23,
      "outputs": []
    },
    {
      "cell_type": "code",
      "source": [
        "video = intro_video"
      ],
      "metadata": {
        "id": "MnymqU50bd5R"
      },
      "execution_count": 24,
      "outputs": []
    },
    {
      "cell_type": "code",
      "source": [
        "response = client.models.generate_content(\n",
        "    model=model,\n",
        "    contents=[\n",
        "        types.Content(\n",
        "            role=\"user\",\n",
        "            parts=[\n",
        "                types.Part.from_uri(\n",
        "                    file_uri=video.uri,\n",
        "                    mime_type=video.mime_type),\n",
        "                ]),\n",
        "        prompt,\n",
        "    ]\n",
        ")"
      ],
      "metadata": {
        "id": "rSjTMumOZ29y"
      },
      "execution_count": 26,
      "outputs": []
    },
    {
      "cell_type": "code",
      "source": [
        "Markdown(response.text)"
      ],
      "metadata": {
        "colab": {
          "base_uri": "https://localhost:8080/",
          "height": 141
        },
        "id": "weH-NdAAcITq",
        "outputId": "b0739078-df32-4b22-931d-42bf6485c2bd"
      },
      "execution_count": 27,
      "outputs": [
        {
          "output_type": "execute_result",
          "data": {
            "text/plain": [
              "<IPython.core.display.Markdown object>"
            ],
            "text/markdown": "```json\n[\n  {\n    \"timecode\": \"00:00\",\n    \"caption\": \"A person with a beard and a knit cap is seen in a slightly blurry view, with a light-colored wall in the background. \\\"Hi, this is Rao Juneed. I am a machine learning engineer, and I'm learning with P.I.A.I.C.\\\"\"\n  }\n]\n```"
          },
          "metadata": {},
          "execution_count": 27
        }
      ]
    },
    {
      "cell_type": "code",
      "source": [
        "prompt = \"Analyze the video and audio quality deeply. Present your honest review about that.\"\n",
        "\n",
        "video = intro_video"
      ],
      "metadata": {
        "id": "BOxhXULdcrQC"
      },
      "execution_count": 31,
      "outputs": []
    },
    {
      "cell_type": "code",
      "source": [
        "response = client.models.generate_content(\n",
        "    model=model,\n",
        "    contents=[\n",
        "        types.Content(\n",
        "            role=\"user\",\n",
        "            parts=[\n",
        "                types.Part.from_uri(\n",
        "                    file_uri=video.uri,\n",
        "                    mime_type=video.mime_type),\n",
        "                ]),\n",
        "        prompt,\n",
        "    ]\n",
        ")"
      ],
      "metadata": {
        "id": "EiZDM4r_cJxI"
      },
      "execution_count": 32,
      "outputs": []
    },
    {
      "cell_type": "code",
      "source": [
        "Markdown(response.text)"
      ],
      "metadata": {
        "colab": {
          "base_uri": "https://localhost:8080/",
          "height": 639
        },
        "id": "G1wcDimoc0La",
        "outputId": "f700b160-c8e0-4923-edc2-89bd96ecc23a"
      },
      "execution_count": 33,
      "outputs": [
        {
          "output_type": "execute_result",
          "data": {
            "text/plain": [
              "<IPython.core.display.Markdown object>"
            ],
            "text/markdown": "Certainly! Here's a deep dive into the video and audio quality of the provided clip:\n\n**Video Quality Analysis:**\n\n*   **Clarity and Sharpness:** The video is extremely blurry, lacking sharpness and detail. The subject's features are largely obscured and out of focus. This lack of clarity makes it difficult to discern details or expressions.\n*   **Resolution and Detail:** The resolution appears to be low, contributing to the lack of sharpness. The low resolution makes it difficult to distinguish features and details even when in focus.\n*   **Color and Contrast:** The video displays a washed-out color palette. The image is dominated by a pale, hazy pink hue, likely an effect from poor lighting or a foggy camera lens. There's very little contrast between the subject and the background. \n*   **Lighting:** The lighting appears to be diffused and dim, contributing to the overall blurry and foggy look of the video. It does not provide any clear illumination of the subject.\n*   **Artifacts and Noise:** Due to the fog and blurriness, it's challenging to assess for other types of noise or artifacts, but these would likely be masked.\n*   **Overall:** The video quality is very poor, making it difficult to view and understand. The combination of blur, low resolution, poor lighting, and color make it less than optimal. It could be described as very low-quality.\n\n**Audio Quality Analysis:**\n\n*   **Clarity and Intelligibility:** The audio is clear and easily understandable. The words are distinct and without much background noise to distract from the content.\n*   **Volume Levels:** The volume level of the speaker's voice is adequate, not too soft or too loud. This makes the audio listenable.\n*   **Background Noise and Distortion:** There is no discernible background noise or distortion interfering with the speaker's voice. It's a clean audio recording in that regard. \n*   **Tonality and Naturality:** The audio sounds natural, without artificial effects or distortion, conveying the speaker's tone without issue.\n*   **Overall:** The audio is good in clarity, volume and has minimal background noise making it easily understood and pleasant to hear.\n\n**Overall Review:**\n\n*   **Video:** The video is of very low quality. The blurriness, poor resolution, and washed-out colors make it difficult to view, and makes the details indistinct. This makes the visual part of the video suboptimal.\n*   **Audio:** In contrast to the video, the audio is of good quality, with clear and easily understandable speech. The lack of background noise and good volume levels make the audio a positive aspect of the video.\n\n**Honest Assessment:**\n\nThe video quality is seriously lacking and significantly detracts from the overall viewing experience. While the audio is perfectly fine, the poor visual representation impacts the overall quality of this recording. If the intent of the recording was to have someone clearly visible, the video is not fulfilling that objective, and a better video capture should be prioritized. The difference in quality between the video and audio is quite stark, making the presentation unbalanced.\n\nIf the purpose is to make the voice heard, the current audio is fine; however, it could benefit from the addition of an image of some sort to convey a better presentation."
          },
          "metadata": {},
          "execution_count": 33
        }
      ]
    },
    {
      "cell_type": "code",
      "source": [],
      "metadata": {
        "id": "eBnxq5Gmc1kS"
      },
      "execution_count": null,
      "outputs": []
    }
  ]
}