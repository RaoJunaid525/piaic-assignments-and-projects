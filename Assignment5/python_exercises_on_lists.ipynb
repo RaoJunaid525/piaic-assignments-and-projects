{
 "cells": [
  {
   "cell_type": "code",
   "execution_count": 138,
   "metadata": {},
   "outputs": [
    {
     "name": "stdout",
     "output_type": "stream",
     "text": [
      "dost: Zeb\n",
      "dost: Abubakkar\n",
      "dost: Saif\n"
     ]
    }
   ],
   "source": [
    "# 3.1\n",
    "names = [\"Zeb\", \"Abubakkar\", \"Saif\"]\n",
    "\n",
    "for name in names:\n",
    "    print(f\"dost: {name}\")"
   ]
  },
  {
   "cell_type": "code",
   "execution_count": 139,
   "metadata": {},
   "outputs": [
    {
     "name": "stdout",
     "output_type": "stream",
     "text": [
      "kesy ho mery dost Zeb?\n",
      "kesy ho mery dost Abubakkar?\n",
      "kesy ho mery dost Saif?\n"
     ]
    }
   ],
   "source": [
    "# 3.2\n",
    "for name in names:\n",
    "    print(f\"kesy ho mery dost {name}?\")"
   ]
  },
  {
   "cell_type": "code",
   "execution_count": 140,
   "metadata": {},
   "outputs": [
    {
     "name": "stdout",
     "output_type": "stream",
     "text": [
      "I would love to own a Supra car\n",
      "I would love to own a GTR car\n",
      "I would love to own a Camaro car\n",
      "I would love to own a Mustang car\n",
      "I would love to own a Challenger car\n",
      "I would love to own a Charger car\n"
     ]
    }
   ],
   "source": [
    "# 3.3\n",
    "cars = [\"Supra\", \"GTR\", \"Camaro\", \"Mustang\", \"Challenger\", \"Charger\"]\n",
    "\n",
    "for car in cars:\n",
    "    print(f\"I would love to own a {car} car\")"
   ]
  },
  {
   "cell_type": "code",
   "execution_count": 141,
   "metadata": {},
   "outputs": [
    {
     "name": "stdout",
     "output_type": "stream",
     "text": [
      "sun oye Zeb! aaj teri dawat hai meri taraf sham m.\n",
      "sun oye Abubakkar! aaj teri dawat hai meri taraf sham m.\n",
      "sun oye Saif! aaj teri dawat hai meri taraf sham m.\n"
     ]
    }
   ],
   "source": [
    "# 3.4 -> Using the same list as used for 3.1\n",
    "for name in names:\n",
    "    print(f\"sun oye {name}! aaj teri dawat hai meri taraf sham m.\")"
   ]
  },
  {
   "cell_type": "code",
   "execution_count": 142,
   "metadata": {},
   "outputs": [
    {
     "name": "stdout",
     "output_type": "stream",
     "text": [
      "sun oye Zeb! aaj teri dawat hai meri taraf sham m.\n",
      "sun oye Abubakkar! aaj teri dawat hai meri taraf sham m.\n",
      "sun oye Saif! aaj teri dawat hai meri taraf sham m.\n",
      "\n",
      "Abubakkar can't make it\n"
     ]
    }
   ],
   "source": [
    "# 3.5\n",
    "for name in names:\n",
    "    print(f\"sun oye {name}! aaj teri dawat hai meri taraf sham m.\")\n",
    "    \n",
    "cancelled_guest = \"Abubakkar\"\n",
    "print(f\"\\n{cancelled_guest} can't make it\")"
   ]
  },
  {
   "cell_type": "code",
   "execution_count": 143,
   "metadata": {},
   "outputs": [
    {
     "name": "stdout",
     "output_type": "stream",
     "text": [
      "sun oye Zeb! aaj teri dawat hai meri taraf sham m.\n",
      "sun oye Hunzalah! aaj teri dawat hai meri taraf sham m.\n",
      "sun oye Saif! aaj teri dawat hai meri taraf sham m.\n"
     ]
    }
   ],
   "source": [
    "new_guest = \"Hunzalah\"\n",
    "if name in names:\n",
    "    index = names.index(cancelled_guest)\n",
    "    names[index] = new_guest\n",
    "    \n",
    "for name in names:\n",
    "    print(f\"sun oye {name}! aaj teri dawat hai meri taraf sham m.\")"
   ]
  },
  {
   "cell_type": "code",
   "execution_count": 144,
   "metadata": {},
   "outputs": [
    {
     "name": "stdout",
     "output_type": "stream",
     "text": [
      "['Zeb', 'Hunzalah', 'Saif']\n",
      "Hi friends! I got a bigger table\n",
      "sun oye Farhan! aaj teri dawat hai meri taraf sham m.\n",
      "sun oye Zeb! aaj teri dawat hai meri taraf sham m.\n",
      "sun oye Arshad! aaj teri dawat hai meri taraf sham m.\n",
      "sun oye Hunzalah! aaj teri dawat hai meri taraf sham m.\n",
      "sun oye Saif! aaj teri dawat hai meri taraf sham m.\n",
      "sun oye Ehtisham! aaj teri dawat hai meri taraf sham m.\n",
      "['Farhan', 'Zeb', 'Arshad', 'Hunzalah', 'Saif', 'Ehtisham']\n"
     ]
    }
   ],
   "source": [
    "# 3.6\n",
    "print(names)\n",
    "print(\"Hi friends! I got a bigger table\")\n",
    "\n",
    "names.insert(0, \"Farhan\")\n",
    "names.append(\"Ehtisham\")\n",
    "names.insert(int(len(names)/2), \"Arshad\")\n",
    "\n",
    "for name in names:\n",
    "    print(f\"sun oye {name}! aaj teri dawat hai meri taraf sham m.\")\n",
    "    \n",
    "print(names) "
   ]
  },
  {
   "cell_type": "code",
   "execution_count": 145,
   "metadata": {},
   "outputs": [
    {
     "name": "stdout",
     "output_type": "stream",
     "text": [
      "\n",
      "Names List before work: ['Farhan', 'Zeb', 'Arshad', 'Hunzalah', 'Saif', 'Ehtisham']\n",
      "I can invite only two people for dinner\n",
      "\n",
      "Sorry dost Ehtisham, you're not invited anymore\n",
      "Sorry dost Saif, you're not invited anymore\n",
      "Sorry dost Hunzalah, you're not invited anymore\n",
      "Sorry dost Arshad, you're not invited anymore\n",
      "\n",
      "\n",
      "sun oye Farhan! aaj teri dawat hai meri taraf sham m.\n",
      "sun oye Zeb! aaj teri dawat hai meri taraf sham m.\n",
      "\n",
      "Names List after work: []\n"
     ]
    }
   ],
   "source": [
    "# 3.7\n",
    "print(f\"\\nNames List before work: {names}\")\n",
    "print(\"I can invite only two people for dinner\\n\")\n",
    "\n",
    "while len(names) > 2:\n",
    "    print(f\"Sorry dost {names.pop()}, you're not invited anymore\")\n",
    "\n",
    "print(\"\\n\")\n",
    "for name in names:\n",
    "    print(f\"sun oye {name}! aaj teri dawat hai meri taraf sham m.\")\n",
    "    \n",
    "del names[:]\n",
    "    \n",
    "print(f\"\\nNames List after work: {names}\")\n",
    "    "
   ]
  },
  {
   "cell_type": "code",
   "execution_count": 158,
   "metadata": {},
   "outputs": [
    {
     "name": "stdout",
     "output_type": "stream",
     "text": [
      "I want to visit: ['Romania', 'Venice', 'Luxembourg', 'Venezuela', 'LosAngeles']\n",
      "\n",
      " Locations Sorted: ['LosAngeles', 'Luxembourg', 'Romania', 'Venezuela', 'Venice']\n",
      "\n",
      " Locations Sorted in reverse order: ['Venice', 'Venezuela', 'Romania', 'Luxembourg', 'LosAngeles']\n"
     ]
    }
   ],
   "source": [
    "# 3.8\n",
    "locations = [\"Romania\", \"Venice\", \"Luxembourg\", \"Venezuela\", \"LosAngeles\"]\n",
    "\n",
    "print(f\"I want to visit: {locations}\")\n",
    "print(f\"\\n Locations Sorted: {sorted(locations)}\")\n",
    "print(f\"\\n Locations Sorted in reverse order: {sorted(locations, reverse=True)}\")"
   ]
  },
  {
   "cell_type": "code",
   "execution_count": 166,
   "metadata": {},
   "outputs": [
    {
     "name": "stdout",
     "output_type": "stream",
     "text": [
      "changed order: ['LosAngeles', 'Luxembourg', 'Romania', 'Venezuela', 'Venice']\n",
      "\n",
      "changed order: ['Venice', 'Venezuela', 'Romania', 'Luxembourg', 'LosAngeles']\n",
      "\n",
      "sorted:  ['LosAngeles', 'Luxembourg', 'Romania', 'Venezuela', 'Venice']\n",
      "\n",
      "reversely sorted:  ['Venice', 'Venezuela', 'Romania', 'Luxembourg', 'LosAngeles']\n"
     ]
    }
   ],
   "source": [
    "locations.reverse()\n",
    "print(f\"changed order: {locations}\")\n",
    "\n",
    "locations.reverse()\n",
    "print(f\"\\nchanged order: {locations}\")\n",
    "\n",
    "locations.sort()\n",
    "print(\"\\nsorted: \",locations)\n",
    "\n",
    "locations.sort(reverse=True)\n",
    "print(\"\\nreversely sorted: \",locations)"
   ]
  },
  {
   "cell_type": "code",
   "execution_count": 172,
   "metadata": {},
   "outputs": [
    {
     "name": "stdout",
     "output_type": "stream",
     "text": [
      "insert at the end: ['Ninja', 'R6', 'S1000', 'CBR1000RR', 'Harley', 'Hayabusa']\n",
      "insert at the index specified: ['Ninja', 'R6', 'S1000', 'Dukati', 'CBR1000RR', 'Harley', 'Hayabusa']\n",
      "New bikes: ['CBR1000RR', 'Dukati', 'Harley', 'Hayabusa', 'Ninja', 'R6']\n",
      "Old bikes: ['CBR1000RR', 'Dukati', 'Harley', 'Hayabusa', 'Ninja', 'R6']\n"
     ]
    }
   ],
   "source": [
    "# 3.9\n",
    "bikes = [\"Ninja\", \"R6\", \"S1000\", \"CBR1000RR\", \"Harley\"]\n",
    "\n",
    "bikes.append('Hayabusa')\n",
    "print(f\"insert at the end: {bikes}\")\n",
    "\n",
    "bikes.insert(3, 'Dukati')\n",
    "print(f\"insert at the index specified: {bikes}\")\n",
    "bikes.sort()\n",
    "bikes.pop()\n",
    "bikes.count(bikes)\n",
    "\n",
    "new_bikes = bikes.copy()\n",
    "print(f\"New bikes: {new_bikes}\")\n",
    "\n",
    "print(f\"Old bikes: {bikes}\")"
   ]
  },
  {
   "cell_type": "code",
   "execution_count": 178,
   "metadata": {},
   "outputs": [
    {
     "ename": "IndexError",
     "evalue": "list index out of range",
     "output_type": "error",
     "traceback": [
      "\u001b[1;31m---------------------------------------------------------------------------\u001b[0m",
      "\u001b[1;31mIndexError\u001b[0m                                Traceback (most recent call last)",
      "Cell \u001b[1;32mIn[178], line 3\u001b[0m\n\u001b[0;32m      1\u001b[0m \u001b[38;5;66;03m# 3.10\u001b[39;00m\n\u001b[1;32m----> 3\u001b[0m \u001b[38;5;28mprint\u001b[39m(bikes[\u001b[38;5;241m6\u001b[39m])\n",
      "\u001b[1;31mIndexError\u001b[0m: list index out of range"
     ]
    }
   ],
   "source": [
    "# 3.10\n",
    "\n",
    "print(bikes[6])"
   ]
  },
  {
   "cell_type": "code",
   "execution_count": 179,
   "metadata": {},
   "outputs": [
    {
     "name": "stdout",
     "output_type": "stream",
     "text": [
      "R6\n"
     ]
    }
   ],
   "source": [
    "print(bikes[5])"
   ]
  }
 ],
 "metadata": {
  "kernelspec": {
   "display_name": "base",
   "language": "python",
   "name": "python3"
  },
  "language_info": {
   "codemirror_mode": {
    "name": "ipython",
    "version": 3
   },
   "file_extension": ".py",
   "mimetype": "text/x-python",
   "name": "python",
   "nbconvert_exporter": "python",
   "pygments_lexer": "ipython3",
   "version": "3.12.7"
  }
 },
 "nbformat": 4,
 "nbformat_minor": 2
}
